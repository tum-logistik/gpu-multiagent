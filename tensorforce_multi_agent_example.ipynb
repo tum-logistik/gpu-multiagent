{
 "cells": [
  {
   "cell_type": "code",
   "execution_count": 1,
   "metadata": {},
   "outputs": [
    {
     "name": "stdout",
     "output_type": "stream",
     "text": [
      "True\n",
      "1\n",
      "0\n",
      "GeForce RTX 3080 Ti\n"
     ]
    },
    {
     "name": "stderr",
     "output_type": "stream",
     "text": [
      "/opt/conda/lib/python3.8/site-packages/torch/_masked/__init__.py:96: UserWarning: Failed to initialize NumPy: module compiled against API version 0xe but this version of numpy is 0xd (Triggered internally at  /opt/pytorch/pytorch/torch/csrc/utils/tensor_numpy.cpp:68.)\n",
      "  example_input = torch.tensor([[-3, -2, -1], [0, 1, 2]])\n"
     ]
    }
   ],
   "source": [
    "import torch\n",
    "\n",
    "print(torch.cuda.is_available())\n",
    "print(torch.cuda.device_count())\n",
    "print(torch.cuda.current_device())\n",
    "print(torch.cuda.get_device_name(torch.cuda.current_device()))"
   ]
  },
  {
   "cell_type": "code",
   "execution_count": 1,
   "metadata": {},
   "outputs": [],
   "source": [
    "import numpy as np\n",
    "from tensorforce import Environment, Runner\n",
    "\n",
    "class MultiactorEnvironment(Environment):\n",
    "    \"\"\"\n",
    "    Example multi-actor environment, illustrating best-practice implementation pattern.\n",
    "    State space: position in [0, 10].\n",
    "    Action space: movement in {-1, 0, 1}.\n",
    "    Random start in [3, 7].\n",
    "    Actor 1 perspective as is, actor 2 perspective mirrored.\n",
    "    Positive reward for being closer to 10.\n",
    "    \"\"\"\n",
    "\n",
    "    def __init__(self):\n",
    "        super().__init__()\n",
    "\n",
    "    def states(self):\n",
    "        return dict(type='int', num_values=11)\n",
    "\n",
    "    def actions(self):\n",
    "        return dict(type='int', num_values=3)\n",
    "\n",
    "    def num_actors(self):\n",
    "        return 2  # Indicates that environment has multiple actors\n",
    "\n",
    "    def reset(self):\n",
    "        # Always for multi-actor environments: initialize parallel indices\n",
    "        self._parallel_indices = np.arange(self.num_actors())\n",
    "\n",
    "        # Single shared environment logic, plus per-actor perspective\n",
    "        self._states = 3 + np.random.randint(5)\n",
    "        self.second_actor = True\n",
    "        states = np.stack([self._states, 10 - self._states], axis=0)\n",
    "\n",
    "        # Always for multi-actor environments: return per-actor values\n",
    "        return self._parallel_indices.copy(), states\n",
    "\n",
    "    def execute(self, actions):\n",
    "        # Single shared environment logic, plus per-actor perspective\n",
    "        if self.second_actor:\n",
    "            self.second_actor = self.second_actor and not (np.random.random_sample() < 0.1)\n",
    "            terminal = np.stack([False, not self.second_actor], axis=0)\n",
    "            delta = (actions[0] - 1) - (actions[1] - 1)\n",
    "            self._states = np.clip(self._states + delta, a_min=0, a_max=10)\n",
    "            states = np.stack([self._states, 10 - self._states], axis=0)\n",
    "        else:\n",
    "            terminal = np.stack([False], axis=0)\n",
    "            delta = (actions[0] - 1)\n",
    "            self._states = np.clip(self._states + delta, a_min=0, a_max=10)\n",
    "            states = np.stack([self._states], axis=0)\n",
    "        reward = (states - 5.0) / 5.0\n",
    "\n",
    "        # Always for multi-actor environments: update parallel indices, and return per-actor values\n",
    "        self._parallel_indices = self._parallel_indices[~terminal]\n",
    "        return self._parallel_indices.copy(), states, terminal, reward\n",
    "\n",
    "\n",
    "# Multi-actor runner, automatically if environment.num_actors() > 1\n",
    "runner = Runner(\n",
    "    agent='json/ppo.json',\n",
    "    environment=MultiactorEnvironment,\n",
    "    max_episode_timesteps=10\n",
    ")\n",
    "\n"
   ]
  },
  {
   "cell_type": "code",
   "execution_count": 3,
   "metadata": {},
   "outputs": [
    {
     "data": {
      "application/vnd.jupyter.widget-view+json": {
       "model_id": "4064bd28d42f4a4ab4bdbfc65eec707f",
       "version_major": 2,
       "version_minor": 0
      },
      "text/plain": [
       "Episodes:   0%|          | 0/1000 [00:00, return=0.00, ts/ep=0, sec/ep=0.00, ms/ts=0.0, agent=0.0%]"
      ]
     },
     "metadata": {},
     "output_type": "display_data"
    }
   ],
   "source": [
    "runner.run(num_episodes=1000)\n"
   ]
  },
  {
   "cell_type": "code",
   "execution_count": 15,
   "metadata": {},
   "outputs": [
    {
     "data": {
      "text/plain": [
       "['__class__',\n",
       " '__delattr__',\n",
       " '__dict__',\n",
       " '__dir__',\n",
       " '__doc__',\n",
       " '__eq__',\n",
       " '__format__',\n",
       " '__ge__',\n",
       " '__getattribute__',\n",
       " '__gt__',\n",
       " '__hash__',\n",
       " '__init__',\n",
       " '__init_subclass__',\n",
       " '__le__',\n",
       " '__lt__',\n",
       " '__module__',\n",
       " '__ne__',\n",
       " '__new__',\n",
       " '__reduce__',\n",
       " '__reduce_ex__',\n",
       " '__repr__',\n",
       " '__setattr__',\n",
       " '__sizeof__',\n",
       " '__str__',\n",
       " '__subclasshook__',\n",
       " '__weakref__',\n",
       " 'actions',\n",
       " 'agent',\n",
       " 'batch_agent_calls',\n",
       " 'callback',\n",
       " 'callback_episode_frequency',\n",
       " 'callback_timestep_frequency',\n",
       " 'close',\n",
       " 'environments',\n",
       " 'episode_agent_second',\n",
       " 'episode_agent_seconds',\n",
       " 'episode_return',\n",
       " 'episode_returns',\n",
       " 'episode_seconds',\n",
       " 'episode_start',\n",
       " 'episode_timestep',\n",
       " 'episode_timesteps',\n",
       " 'episodes',\n",
       " 'evaluation',\n",
       " 'evaluation_agent_second',\n",
       " 'evaluation_agent_seconds',\n",
       " 'evaluation_callback',\n",
       " 'evaluation_returns',\n",
       " 'evaluation_run',\n",
       " 'evaluation_seconds',\n",
       " 'evaluation_start',\n",
       " 'evaluation_timesteps',\n",
       " 'handle_act',\n",
       " 'handle_act_evaluation',\n",
       " 'handle_act_joint',\n",
       " 'handle_observe',\n",
       " 'handle_observe_evaluation',\n",
       " 'handle_observe_joint',\n",
       " 'handle_terminal',\n",
       " 'handle_terminal_evaluation',\n",
       " 'is_agent_external',\n",
       " 'is_environment_external',\n",
       " 'is_environment_remote',\n",
       " 'num_environments',\n",
       " 'num_episodes',\n",
       " 'num_sleep_secs',\n",
       " 'num_timesteps',\n",
       " 'num_updates',\n",
       " 'num_vectorized',\n",
       " 'prev_terminals',\n",
       " 'rewards',\n",
       " 'run',\n",
       " 'save_best_agent',\n",
       " 'states',\n",
       " 'sync_episodes',\n",
       " 'sync_timesteps',\n",
       " 'terminals',\n",
       " 'terminate',\n",
       " 'timesteps',\n",
       " 'tqdm',\n",
       " 'tqdm_last_update',\n",
       " 'updates']"
      ]
     },
     "execution_count": 15,
     "metadata": {},
     "output_type": "execute_result"
    }
   ],
   "source": [
    "dir(runner)"
   ]
  },
  {
   "cell_type": "code",
   "execution_count": 24,
   "metadata": {},
   "outputs": [
    {
     "data": {
      "text/plain": [
       "1000"
      ]
     },
     "execution_count": 24,
     "metadata": {},
     "output_type": "execute_result"
    }
   ],
   "source": [
    "runner.updates"
   ]
  },
  {
   "cell_type": "code",
   "execution_count": 23,
   "metadata": {},
   "outputs": [
    {
     "data": {
      "text/plain": [
       "OrderedDict([('agent', 'ppo'),\n",
       "             ('states', {'type': 'int', 'num_values': 11}),\n",
       "             ('actions', {'type': 'int', 'num_values': 3}),\n",
       "             ('max_episode_timesteps', 10),\n",
       "             ('batch_size', 12),\n",
       "             ('network', {'type': 'auto', 'rnn': False}),\n",
       "             ('use_beta_distribution', False),\n",
       "             ('memory', 'minimum'),\n",
       "             ('update_frequency', 1),\n",
       "             ('learning_rate', 0.001813150053725916),\n",
       "             ('multi_step', 5),\n",
       "             ('subsampling_fraction', 0.9131375430837279),\n",
       "             ('likelihood_ratio_clipping', 0.09955676846552193),\n",
       "             ('discount', 0.9985351346308641),\n",
       "             ('return_processing', None),\n",
       "             ('advantage_processing', None),\n",
       "             ('predict_terminal_values', False),\n",
       "             ('baseline', {'type': 'auto', 'rnn': False}),\n",
       "             ('baseline_optimizer',\n",
       "              {'optimizer': 'adam',\n",
       "               'learning_rate': 0.003670157218888348,\n",
       "               'multi_step': 10}),\n",
       "             ('state_preprocessing', 'linear_normalization'),\n",
       "             ('exploration', 0.0),\n",
       "             ('variable_noise', 0.0),\n",
       "             ('l2_regularization', 0.0),\n",
       "             ('entropy_regularization', 0.0011393096635237982),\n",
       "             ('parallel_interactions', 2),\n",
       "             ('config', None),\n",
       "             ('saver', None),\n",
       "             ('summarizer', None),\n",
       "             ('tracking', None),\n",
       "             ('recorder', None)])"
      ]
     },
     "execution_count": 23,
     "metadata": {},
     "output_type": "execute_result"
    }
   ],
   "source": [
    "runner.agent.spec"
   ]
  },
  {
   "cell_type": "code",
   "execution_count": 28,
   "metadata": {},
   "outputs": [],
   "source": [
    "import matplotlib.pyplot as plt\n"
   ]
  },
  {
   "cell_type": "code",
   "execution_count": 29,
   "metadata": {},
   "outputs": [
    {
     "data": {
      "text/plain": [
       "[<matplotlib.lines.Line2D at 0x7f3a6b6c15b0>]"
      ]
     },
     "execution_count": 29,
     "metadata": {},
     "output_type": "execute_result"
    },
    {
     "data": {
      "image/png": "[encoded data removed]",
      "text/plain": [
       "<Figure size 432x288 with 1 Axes>"
      ]
     },
     "metadata": {
      "needs_background": "light"
     },
     "output_type": "display_data"
    }
   ],
   "source": [
    "plt.plot(runner.episode_returns)"
   ]
  },
  {
   "cell_type": "code",
   "execution_count": null,
   "metadata": {},
   "outputs": [],
   "source": [
    "#https://tensorforce.readthedocs.io/en/0.3.1/runner.html\n"
   ]
  },
  {
   "cell_type": "code",
   "execution_count": 26,
   "metadata": {},
   "outputs": [
    {
     "ename": "NameError",
     "evalue": "name 'agent' is not defined",
     "output_type": "error",
     "traceback": [
      "\u001b[0;31m---------------------------------------------------------------------------\u001b[0m",
      "\u001b[0;31mNameError\u001b[0m                                 Traceback (most recent call last)",
      "\u001b[0;32m/tmp/ipykernel_1309/2215047661.py\u001b[0m in \u001b[0;36m<module>\u001b[0;34m\u001b[0m\n\u001b[0;32m----> 1\u001b[0;31m \u001b[0maction\u001b[0m \u001b[0;34m=\u001b[0m \u001b[0magent\u001b[0m\u001b[0;34m.\u001b[0m\u001b[0mact\u001b[0m\u001b[0;34m(\u001b[0m\u001b[0mstate\u001b[0m\u001b[0;34m,\u001b[0m \u001b[0mself\u001b[0m\u001b[0;34m.\u001b[0m\u001b[0mepisode\u001b[0m\u001b[0;34m)\u001b[0m\u001b[0;34m\u001b[0m\u001b[0;34m\u001b[0m\u001b[0m\n\u001b[0m",
      "\u001b[0;31mNameError\u001b[0m: name 'agent' is not defined"
     ]
    }
   ],
   "source": []
  },
  {
   "cell_type": "code",
   "execution_count": null,
   "metadata": {},
   "outputs": [],
   "source": []
  }
 ],
 "metadata": {
  "kernelspec": {
   "display_name": "Python 3 (ipykernel)",
   "language": "python",
   "name": "python3"
  },
  "language_info": {
   "codemirror_mode": {
    "name": "ipython",
    "version": 3
   },
   "file_extension": ".py",
   "mimetype": "text/x-python",
   "name": "python",
   "nbconvert_exporter": "python",
   "pygments_lexer": "ipython3",
   "version": "3.8.12"
  },
  "orig_nbformat": 4
 },
 "nbformat": 4,
 "nbformat_minor": 2
}
