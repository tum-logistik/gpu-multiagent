{
 "cells": [
  {
   "cell_type": "code",
   "execution_count": 4,
   "metadata": {},
   "outputs": [],
   "source": [
    "import numpy as np\n",
    "\n",
    "from tensorforce import Environment, Runner\n",
    "\n",
    "\n",
    "class VectorizedEnvironment(Environment):\n",
    "    \"\"\"\n",
    "    Example vectorized environment, illustrating best-practice implementation pattern.\n",
    "    State space: position in [0, 10].\n",
    "    Action space: movement in {-1, 0, 1}.\n",
    "    Random start in [0, 3] or [7, 10].\n",
    "    Positive reward for moving towards the center 5.\n",
    "    \"\"\"\n",
    "\n",
    "    def __init__(self):\n",
    "        super().__init__()\n",
    "\n",
    "    def states(self):\n",
    "        return dict(type='int', num_values=11)\n",
    "\n",
    "    def actions(self):\n",
    "        return dict(type='int', num_values=3)\n",
    "\n",
    "    def is_vectorizable(self):\n",
    "        return True  # Indicates that environment is vectorizable\n",
    "\n",
    "    def reset(self, num_parallel=None):\n",
    "        # Always for vectorized environments: initialize parallel indices\n",
    "        self._is_parallel = (num_parallel is not None)\n",
    "        if self._is_parallel:\n",
    "            self._parallel_indices = np.arange(num_parallel)\n",
    "        else:\n",
    "            self._parallel_indices = np.arange(1)\n",
    "\n",
    "        # Vectorized environment logic\n",
    "        is_high = (np.random.random_sample(size=self._parallel_indices.shape) < 0.5)\n",
    "        offset = np.random.randint(4, size=self._parallel_indices.shape)\n",
    "        self._states = np.where(is_high, 10 - offset, offset)\n",
    "\n",
    "        # Always for vectorized environments: return un-/vectorized values\n",
    "        if self._is_parallel:\n",
    "            return self._parallel_indices.copy(), self._states.copy()\n",
    "        else:\n",
    "            return self._states[0]\n",
    "\n",
    "    def execute(self, actions):\n",
    "        # Always for vectorized environments: expand actions if non-vectorized\n",
    "        if not self._is_parallel:\n",
    "            actions = np.expand_dims(actions, axis=0)\n",
    "\n",
    "        # Vectorized environment logic\n",
    "        reward = np.select(\n",
    "            condlist=[self._states < 5, self._states > 5],\n",
    "            choicelist=[(actions == 2).astype(np.float32), (actions == 0).astype(np.float32)],\n",
    "            default=np.ones(shape=self._parallel_indices.shape, dtype=np.float32)\n",
    "        )\n",
    "        terminal = (np.random.random_sample(size=self._parallel_indices.shape) < 0.1)\n",
    "        self._states = np.clip(self._states + (actions - 1), a_min=0, a_max=10)\n",
    "\n",
    "        # Always for vectorized environments: update parallel indices and states,\n",
    "        #                                     and return un-/vectorized values\n",
    "        if self._is_parallel:\n",
    "            self._parallel_indices = self._parallel_indices[~terminal]\n",
    "            self._states = self._states[~terminal]\n",
    "            return self._parallel_indices.copy(), self._states.copy(), terminal, reward\n",
    "        else:\n",
    "            return self._states[0], terminal.item(), reward.item()\n",
    "\n",
    "\n",
    "def main():\n",
    "    # Non-vectorized runner\n",
    "    runner = Runner(\n",
    "        agent='json/ppo.json',\n",
    "        environment=VectorizedEnvironment,\n",
    "        max_episode_timesteps=10\n",
    "    )\n",
    "    runner.run(num_episodes=100)\n",
    "\n",
    "    # Vectorized runner, automatically if num_parallel > 1 and environment.is_vectorizable()\n",
    "    # (and remote argument not specified)\n",
    "    runner = Runner(\n",
    "        agent='json/ppo.json',\n",
    "        environment=VectorizedEnvironment,\n",
    "        max_episode_timesteps=10,\n",
    "        num_parallel=16\n",
    "    )\n",
    "    runner.run(num_episodes=100)"
   ]
  },
  {
   "cell_type": "code",
   "execution_count": 5,
   "metadata": {},
   "outputs": [
    {
     "data": {
      "application/vnd.jupyter.widget-view+json": {
       "model_id": "beac8946b8704f2ab2c85ac3fdc138eb",
       "version_major": 2,
       "version_minor": 0
      },
      "text/plain": [
       "Episodes:   0%|          | 0/100 [00:00, return=0.00, ts/ep=0, sec/ep=0.00, ms/ts=0.0, agent=0.0%]"
      ]
     },
     "metadata": {},
     "output_type": "display_data"
    },
    {
     "data": {
      "application/vnd.jupyter.widget-view+json": {
       "model_id": "5b2859bae86e4fa2b560ce77dcc9dc3f",
       "version_major": 2,
       "version_minor": 0
      },
      "text/plain": [
       "Episodes:   0%|          | 0/100 [00:00, return=0.00, ts/ep=0, sec/ep=0.00, ms/ts=0.0, agent=0.0%]"
      ]
     },
     "metadata": {},
     "output_type": "display_data"
    }
   ],
   "source": [
    "main()"
   ]
  },
  {
   "cell_type": "code",
   "execution_count": null,
   "metadata": {},
   "outputs": [],
   "source": []
  }
 ],
 "metadata": {
  "kernelspec": {
   "display_name": "Python 3 (ipykernel)",
   "language": "python",
   "name": "python3"
  },
  "language_info": {
   "codemirror_mode": {
    "name": "ipython",
    "version": 3
   },
   "file_extension": ".py",
   "mimetype": "text/x-python",
   "name": "python",
   "nbconvert_exporter": "python",
   "pygments_lexer": "ipython3",
   "version": "3.8.12"
  },
  "orig_nbformat": 4
 },
 "nbformat": 4,
 "nbformat_minor": 2
}
